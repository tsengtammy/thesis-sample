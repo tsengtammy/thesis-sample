{
 "cells": [
  {
   "cell_type": "markdown",
   "metadata": {},
   "source": [
    "# This file: Transforms cleaned CA school enrollment data into (aggregated and lagged) format needed for analysis\n",
    "# Dependencies: enrollment, predicted_flows80, predicted_flows90\n",
    "# Outputs: agg_enrollment_CDS, agg_enrollment_CD, enrollment_IV_SD, enrollment_IV_SD_90base\n",
    "# Last updated: 2/21/2019"
   ]
  },
  {
   "cell_type": "code",
   "execution_count": 1,
   "metadata": {
    "collapsed": false
   },
   "outputs": [
    {
     "name": "stderr",
     "output_type": "stream",
     "text": [
      "/Users/tsengtammy/anaconda/lib/python3.5/site-packages/statsmodels/compat/pandas.py:56: FutureWarning: The pandas.core.datetools module is deprecated and will be removed in a future version. Please use the pandas.tseries module instead.\n",
      "  from pandas.core import datetools\n"
     ]
    }
   ],
   "source": [
    "import os\n",
    "import numpy as np\n",
    "import pandas as pd\n",
    "import statsmodels.api as sm\n",
    "import statsmodels.formula.api as smf\n",
    "import matplotlib.pyplot as plt\n",
    "import seaborn as sns\n",
    "%matplotlib inline"
   ]
  },
  {
   "cell_type": "code",
   "execution_count": 2,
   "metadata": {
    "collapsed": false
   },
   "outputs": [
    {
     "name": "stderr",
     "output_type": "stream",
     "text": [
      "/Users/tsengtammy/anaconda/lib/python3.5/site-packages/IPython/core/interactiveshell.py:2717: DtypeWarning: Columns (2,3,4,6,21,22,28,29) have mixed types. Specify dtype option on import or set low_memory=False.\n",
      "  interactivity=interactivity, compiler=compiler, result=result)\n"
     ]
    }
   ],
   "source": [
    "# Read files\n",
    "sd = pd.read_csv('/Users/tsengtammy/Dropbox/3 TT/4. Thesis/build/data/output/enrollment.csv')"
   ]
  },
  {
   "cell_type": "code",
   "execution_count": 21,
   "metadata": {
    "collapsed": true
   },
   "outputs": [],
   "source": [
    "# Read files\n",
    "predicted_flows80 = pd.read_csv('/Users/tsengtammy/Dropbox/3 TT/4. Thesis/build/data/output/predicted_flows80.csv')\n",
    "predicted_flows90 = pd.read_csv('/Users/tsengtammy/Dropbox/3 TT/4. Thesis/build/data/output/predicted_flows90.csv')"
   ]
  },
  {
   "cell_type": "code",
   "execution_count": 22,
   "metadata": {
    "collapsed": true
   },
   "outputs": [],
   "source": [
    "# Lite cleaning\n",
    "for df in [predicted_flows80, predicted_flows90]:\n",
    "    df['District'] = df['NAME'].apply(lambda x: x[:-16])\n",
    "    df.rename(columns={'Year':'YEAR'}, inplace=True)"
   ]
  },
  {
   "cell_type": "markdown",
   "metadata": {},
   "source": [
    "# Def transforms"
   ]
  },
  {
   "cell_type": "code",
   "execution_count": 63,
   "metadata": {
    "collapsed": true
   },
   "outputs": [],
   "source": [
    "def transform(df, id_column):\n",
    "\n",
    "    # pivot, group\n",
    "    grouped = df.copy().groupby([id_column, 'ETHNIC_CAT', 'YEAR'])\n",
    "    race_by_dist = grouped.sum()['ENR_TOTAL'].reset_index()\n",
    "    race_by_dist = race_by_dist.pivot_table(\n",
    "        index=[id_column,'YEAR'], columns='ETHNIC_CAT', values='ENR_TOTAL').reset_index()\n",
    "\n",
    "    # rename\n",
    "    race_by_dist.rename(columns={'White, not Hispanic':'White'}, inplace=True)\n",
    "\n",
    "    # shares of white\n",
    "    race_by_dist['Total'] = race_by_dist.drop([id_column, 'YEAR'], axis=1).sum(axis=1)\n",
    "    race_by_dist['L'] = race_by_dist['Asian'] + race_by_dist['White']\n",
    "    race_by_dist['White_share'] = race_by_dist['White'] / race_by_dist['Total']\n",
    "    race_by_dist['Asian_share'] = race_by_dist['Asian'] / race_by_dist['Total']\n",
    "    race_by_dist['Other_share'] = 1 - race_by_dist['White_share'] - race_by_dist['Asian_share']\n",
    "    race_by_dist = race_by_dist.sort_values([id_column, 'YEAR'], ascending=True)\n",
    "    \n",
    "    # get lags and append \n",
    "    # row is t - (t-1)\n",
    "    lags = race_by_dist.diff()\n",
    "    lags[id_column] = race_by_dist[id_column]\n",
    "    lags['YEAR'] = race_by_dist['YEAR'] # keep as t - (t-1)\n",
    "    lags.rename(columns=lambda x: x + '_t-(t-1)', inplace=True)\n",
    "    lags.rename(columns={'{}_t-(t-1)'.format(id_column): id_column,\n",
    "                        'YEAR_t-(t-1)':'YEAR'}, inplace=True)\n",
    "\n",
    "    # merge the lags data\n",
    "    master = race_by_dist.merge(lags, on=[id_column, 'YEAR'], how='left')\n",
    "    \n",
    "\n",
    "    # merge back county names / pops\n",
    "    county_mapping = df[[id_column, 'YEAR', 'County', 'County_Population', \n",
    "                         'District', 'DOC', 'DOCType']].drop_duplicates(subset=[id_column, 'YEAR']).reset_index().drop('index', axis=1)\n",
    "    master = master.merge(county_mapping, on=[id_column, 'YEAR'], how='left')\n",
    "    print(len(master))\n",
    "    \n",
    "    # get the (t-1) versions of the levels\n",
    "    diff1 = master[[id_column, 'YEAR', 'American Indian or Alaska', 'Asian', 'Black, not Hispanic', 'Filipino',\n",
    "                   'Hispanic or Latino', 'Pacific Islander', 'White', 'Total', 'L', 'White_share', 'Asian_share',\n",
    "                   'Other_share', 'County_Population']].copy()\n",
    "    diff1['YEAR'] = diff1['YEAR'] + 1 # to get (t-1)\n",
    "    diff1.rename(columns=lambda x: x + '_(t-1)', inplace=True)\n",
    "    diff1.rename(columns={'{}_(t-1)'.format(id_column): id_column,\n",
    "                        'YEAR_(t-1)':'YEAR'}, inplace=True)\n",
    "\n",
    "    master = master.merge(diff1, on=[id_column, 'YEAR'], how='left')\n",
    "    print(len(master))\n",
    "    \n",
    "    return master"
   ]
  },
  {
   "cell_type": "markdown",
   "metadata": {},
   "source": [
    "# Transform at school level"
   ]
  },
  {
   "cell_type": "code",
   "execution_count": 64,
   "metadata": {
    "collapsed": false
   },
   "outputs": [
    {
     "name": "stdout",
     "output_type": "stream",
     "text": [
      "307864\n",
      "307864\n"
     ]
    },
    {
     "data": {
      "text/html": [
       "<div>\n",
       "<style scoped>\n",
       "    .dataframe tbody tr th:only-of-type {\n",
       "        vertical-align: middle;\n",
       "    }\n",
       "\n",
       "    .dataframe tbody tr th {\n",
       "        vertical-align: top;\n",
       "    }\n",
       "\n",
       "    .dataframe thead th {\n",
       "        text-align: right;\n",
       "    }\n",
       "</style>\n",
       "<table border=\"1\" class=\"dataframe\">\n",
       "  <thead>\n",
       "    <tr style=\"text-align: right;\">\n",
       "      <th></th>\n",
       "      <th>CDS_CODE</th>\n",
       "      <th>YEAR</th>\n",
       "      <th>American Indian or Alaska</th>\n",
       "      <th>Asian</th>\n",
       "      <th>Black, not Hispanic</th>\n",
       "      <th>Filipino</th>\n",
       "      <th>Hispanic or Latino</th>\n",
       "      <th>Pacific Islander</th>\n",
       "      <th>White</th>\n",
       "      <th>Total</th>\n",
       "      <th>...</th>\n",
       "      <th>Filipino_(t-1)</th>\n",
       "      <th>Hispanic or Latino_(t-1)</th>\n",
       "      <th>Pacific Islander_(t-1)</th>\n",
       "      <th>White_(t-1)</th>\n",
       "      <th>Total_(t-1)</th>\n",
       "      <th>L_(t-1)</th>\n",
       "      <th>White_share_(t-1)</th>\n",
       "      <th>Asian_share_(t-1)</th>\n",
       "      <th>Other_share_(t-1)</th>\n",
       "      <th>County_Population_(t-1)</th>\n",
       "    </tr>\n",
       "  </thead>\n",
       "  <tbody>\n",
       "    <tr>\n",
       "      <th>0</th>\n",
       "      <td>1100170109835</td>\n",
       "      <td>2005</td>\n",
       "      <td>3.0</td>\n",
       "      <td>225.0</td>\n",
       "      <td>112.0</td>\n",
       "      <td>27.0</td>\n",
       "      <td>67.0</td>\n",
       "      <td>8.0</td>\n",
       "      <td>222.0</td>\n",
       "      <td>664.0</td>\n",
       "      <td>...</td>\n",
       "      <td>NaN</td>\n",
       "      <td>NaN</td>\n",
       "      <td>NaN</td>\n",
       "      <td>NaN</td>\n",
       "      <td>NaN</td>\n",
       "      <td>NaN</td>\n",
       "      <td>NaN</td>\n",
       "      <td>NaN</td>\n",
       "      <td>NaN</td>\n",
       "      <td>NaN</td>\n",
       "    </tr>\n",
       "    <tr>\n",
       "      <th>1</th>\n",
       "      <td>1100170109835</td>\n",
       "      <td>2006</td>\n",
       "      <td>9.0</td>\n",
       "      <td>352.0</td>\n",
       "      <td>145.0</td>\n",
       "      <td>31.0</td>\n",
       "      <td>112.0</td>\n",
       "      <td>29.0</td>\n",
       "      <td>326.0</td>\n",
       "      <td>1004.0</td>\n",
       "      <td>...</td>\n",
       "      <td>27.0</td>\n",
       "      <td>67.0</td>\n",
       "      <td>8.0</td>\n",
       "      <td>222.0</td>\n",
       "      <td>664.0</td>\n",
       "      <td>447.0</td>\n",
       "      <td>0.334337</td>\n",
       "      <td>0.338855</td>\n",
       "      <td>0.326807</td>\n",
       "      <td>1462736.0</td>\n",
       "    </tr>\n",
       "    <tr>\n",
       "      <th>2</th>\n",
       "      <td>1100170109835</td>\n",
       "      <td>2007</td>\n",
       "      <td>17.0</td>\n",
       "      <td>385.0</td>\n",
       "      <td>117.0</td>\n",
       "      <td>21.0</td>\n",
       "      <td>99.0</td>\n",
       "      <td>29.0</td>\n",
       "      <td>392.0</td>\n",
       "      <td>1060.0</td>\n",
       "      <td>...</td>\n",
       "      <td>31.0</td>\n",
       "      <td>112.0</td>\n",
       "      <td>29.0</td>\n",
       "      <td>326.0</td>\n",
       "      <td>1004.0</td>\n",
       "      <td>678.0</td>\n",
       "      <td>0.324701</td>\n",
       "      <td>0.350598</td>\n",
       "      <td>0.324701</td>\n",
       "      <td>1462371.0</td>\n",
       "    </tr>\n",
       "    <tr>\n",
       "      <th>3</th>\n",
       "      <td>1100170109835</td>\n",
       "      <td>2008</td>\n",
       "      <td>5.0</td>\n",
       "      <td>429.0</td>\n",
       "      <td>125.0</td>\n",
       "      <td>9.0</td>\n",
       "      <td>75.0</td>\n",
       "      <td>19.0</td>\n",
       "      <td>397.0</td>\n",
       "      <td>1059.0</td>\n",
       "      <td>...</td>\n",
       "      <td>21.0</td>\n",
       "      <td>99.0</td>\n",
       "      <td>29.0</td>\n",
       "      <td>392.0</td>\n",
       "      <td>1060.0</td>\n",
       "      <td>777.0</td>\n",
       "      <td>0.369811</td>\n",
       "      <td>0.363208</td>\n",
       "      <td>0.266981</td>\n",
       "      <td>1470622.0</td>\n",
       "    </tr>\n",
       "    <tr>\n",
       "      <th>4</th>\n",
       "      <td>1100170109835</td>\n",
       "      <td>2009</td>\n",
       "      <td>6.0</td>\n",
       "      <td>282.0</td>\n",
       "      <td>146.0</td>\n",
       "      <td>25.0</td>\n",
       "      <td>179.0</td>\n",
       "      <td>29.0</td>\n",
       "      <td>731.0</td>\n",
       "      <td>1398.0</td>\n",
       "      <td>...</td>\n",
       "      <td>9.0</td>\n",
       "      <td>75.0</td>\n",
       "      <td>19.0</td>\n",
       "      <td>397.0</td>\n",
       "      <td>1059.0</td>\n",
       "      <td>826.0</td>\n",
       "      <td>0.374882</td>\n",
       "      <td>0.405099</td>\n",
       "      <td>0.220019</td>\n",
       "      <td>1484085.0</td>\n",
       "    </tr>\n",
       "  </tbody>\n",
       "</table>\n",
       "<p>5 rows × 44 columns</p>\n",
       "</div>"
      ],
      "text/plain": [
       "        CDS_CODE  YEAR  American Indian or Alaska  Asian  Black, not Hispanic  \\\n",
       "0  1100170109835  2005                        3.0  225.0                112.0   \n",
       "1  1100170109835  2006                        9.0  352.0                145.0   \n",
       "2  1100170109835  2007                       17.0  385.0                117.0   \n",
       "3  1100170109835  2008                        5.0  429.0                125.0   \n",
       "4  1100170109835  2009                        6.0  282.0                146.0   \n",
       "\n",
       "   Filipino  Hispanic or Latino  Pacific Islander  White   Total  \\\n",
       "0      27.0                67.0               8.0  222.0   664.0   \n",
       "1      31.0               112.0              29.0  326.0  1004.0   \n",
       "2      21.0                99.0              29.0  392.0  1060.0   \n",
       "3       9.0                75.0              19.0  397.0  1059.0   \n",
       "4      25.0               179.0              29.0  731.0  1398.0   \n",
       "\n",
       "            ...             Filipino_(t-1)  Hispanic or Latino_(t-1)  \\\n",
       "0           ...                        NaN                       NaN   \n",
       "1           ...                       27.0                      67.0   \n",
       "2           ...                       31.0                     112.0   \n",
       "3           ...                       21.0                      99.0   \n",
       "4           ...                        9.0                      75.0   \n",
       "\n",
       "   Pacific Islander_(t-1)  White_(t-1)  Total_(t-1)  L_(t-1)  \\\n",
       "0                     NaN          NaN          NaN      NaN   \n",
       "1                     8.0        222.0        664.0    447.0   \n",
       "2                    29.0        326.0       1004.0    678.0   \n",
       "3                    29.0        392.0       1060.0    777.0   \n",
       "4                    19.0        397.0       1059.0    826.0   \n",
       "\n",
       "   White_share_(t-1)  Asian_share_(t-1)  Other_share_(t-1)  \\\n",
       "0                NaN                NaN                NaN   \n",
       "1           0.334337           0.338855           0.326807   \n",
       "2           0.324701           0.350598           0.324701   \n",
       "3           0.369811           0.363208           0.266981   \n",
       "4           0.374882           0.405099           0.220019   \n",
       "\n",
       "   County_Population_(t-1)  \n",
       "0                      NaN  \n",
       "1                1462736.0  \n",
       "2                1462371.0  \n",
       "3                1470622.0  \n",
       "4                1484085.0  \n",
       "\n",
       "[5 rows x 44 columns]"
      ]
     },
     "execution_count": 64,
     "metadata": {},
     "output_type": "execute_result"
    }
   ],
   "source": [
    "schools = transform(sd, 'CDS_CODE')\n",
    "schools.head()"
   ]
  },
  {
   "cell_type": "code",
   "execution_count": 65,
   "metadata": {
    "collapsed": true
   },
   "outputs": [],
   "source": [
    "# SAVE FOR ANALYSIS\n",
    "schools.to_csv('/Users/tsengtammy/Dropbox/3 TT/4. Thesis/build/data/output/agg_enrollment_CDS.csv', index=False)"
   ]
  },
  {
   "cell_type": "markdown",
   "metadata": {},
   "source": [
    "# Transform at district level (all districts)"
   ]
  },
  {
   "cell_type": "code",
   "execution_count": 66,
   "metadata": {
    "collapsed": false
   },
   "outputs": [
    {
     "name": "stdout",
     "output_type": "stream",
     "text": [
      "36658\n",
      "36658\n"
     ]
    },
    {
     "data": {
      "text/html": [
       "<div>\n",
       "<style scoped>\n",
       "    .dataframe tbody tr th:only-of-type {\n",
       "        vertical-align: middle;\n",
       "    }\n",
       "\n",
       "    .dataframe tbody tr th {\n",
       "        vertical-align: top;\n",
       "    }\n",
       "\n",
       "    .dataframe thead th {\n",
       "        text-align: right;\n",
       "    }\n",
       "</style>\n",
       "<table border=\"1\" class=\"dataframe\">\n",
       "  <thead>\n",
       "    <tr style=\"text-align: right;\">\n",
       "      <th></th>\n",
       "      <th>CD Code</th>\n",
       "      <th>YEAR</th>\n",
       "      <th>American Indian or Alaska</th>\n",
       "      <th>Asian</th>\n",
       "      <th>Black, not Hispanic</th>\n",
       "      <th>Filipino</th>\n",
       "      <th>Hispanic or Latino</th>\n",
       "      <th>Pacific Islander</th>\n",
       "      <th>White</th>\n",
       "      <th>Total</th>\n",
       "      <th>...</th>\n",
       "      <th>Filipino_(t-1)</th>\n",
       "      <th>Hispanic or Latino_(t-1)</th>\n",
       "      <th>Pacific Islander_(t-1)</th>\n",
       "      <th>White_(t-1)</th>\n",
       "      <th>Total_(t-1)</th>\n",
       "      <th>L_(t-1)</th>\n",
       "      <th>White_share_(t-1)</th>\n",
       "      <th>Asian_share_(t-1)</th>\n",
       "      <th>Other_share_(t-1)</th>\n",
       "      <th>County_Population_(t-1)</th>\n",
       "    </tr>\n",
       "  </thead>\n",
       "  <tbody>\n",
       "    <tr>\n",
       "      <th>0</th>\n",
       "      <td>110017</td>\n",
       "      <td>1981</td>\n",
       "      <td>2.0</td>\n",
       "      <td>20.0</td>\n",
       "      <td>220.0</td>\n",
       "      <td>11.0</td>\n",
       "      <td>NaN</td>\n",
       "      <td>NaN</td>\n",
       "      <td>135.0</td>\n",
       "      <td>388.0</td>\n",
       "      <td>...</td>\n",
       "      <td>NaN</td>\n",
       "      <td>NaN</td>\n",
       "      <td>NaN</td>\n",
       "      <td>NaN</td>\n",
       "      <td>NaN</td>\n",
       "      <td>NaN</td>\n",
       "      <td>NaN</td>\n",
       "      <td>NaN</td>\n",
       "      <td>NaN</td>\n",
       "      <td>NaN</td>\n",
       "    </tr>\n",
       "    <tr>\n",
       "      <th>1</th>\n",
       "      <td>110017</td>\n",
       "      <td>1984</td>\n",
       "      <td>5.0</td>\n",
       "      <td>13.0</td>\n",
       "      <td>225.0</td>\n",
       "      <td>4.0</td>\n",
       "      <td>NaN</td>\n",
       "      <td>NaN</td>\n",
       "      <td>65.0</td>\n",
       "      <td>312.0</td>\n",
       "      <td>...</td>\n",
       "      <td>NaN</td>\n",
       "      <td>NaN</td>\n",
       "      <td>NaN</td>\n",
       "      <td>NaN</td>\n",
       "      <td>NaN</td>\n",
       "      <td>NaN</td>\n",
       "      <td>NaN</td>\n",
       "      <td>NaN</td>\n",
       "      <td>NaN</td>\n",
       "      <td>NaN</td>\n",
       "    </tr>\n",
       "    <tr>\n",
       "      <th>2</th>\n",
       "      <td>110017</td>\n",
       "      <td>1985</td>\n",
       "      <td>4.0</td>\n",
       "      <td>15.0</td>\n",
       "      <td>290.0</td>\n",
       "      <td>4.0</td>\n",
       "      <td>NaN</td>\n",
       "      <td>2.0</td>\n",
       "      <td>69.0</td>\n",
       "      <td>384.0</td>\n",
       "      <td>...</td>\n",
       "      <td>4.0</td>\n",
       "      <td>NaN</td>\n",
       "      <td>NaN</td>\n",
       "      <td>65.0</td>\n",
       "      <td>312.0</td>\n",
       "      <td>78.0</td>\n",
       "      <td>0.208333</td>\n",
       "      <td>0.041667</td>\n",
       "      <td>0.750000</td>\n",
       "      <td>1170400.0</td>\n",
       "    </tr>\n",
       "    <tr>\n",
       "      <th>3</th>\n",
       "      <td>110017</td>\n",
       "      <td>1986</td>\n",
       "      <td>6.0</td>\n",
       "      <td>13.0</td>\n",
       "      <td>346.0</td>\n",
       "      <td>2.0</td>\n",
       "      <td>NaN</td>\n",
       "      <td>1.0</td>\n",
       "      <td>71.0</td>\n",
       "      <td>439.0</td>\n",
       "      <td>...</td>\n",
       "      <td>4.0</td>\n",
       "      <td>NaN</td>\n",
       "      <td>2.0</td>\n",
       "      <td>69.0</td>\n",
       "      <td>384.0</td>\n",
       "      <td>84.0</td>\n",
       "      <td>0.179688</td>\n",
       "      <td>0.039062</td>\n",
       "      <td>0.781250</td>\n",
       "      <td>1185500.0</td>\n",
       "    </tr>\n",
       "    <tr>\n",
       "      <th>4</th>\n",
       "      <td>110017</td>\n",
       "      <td>1987</td>\n",
       "      <td>7.0</td>\n",
       "      <td>14.0</td>\n",
       "      <td>373.0</td>\n",
       "      <td>4.0</td>\n",
       "      <td>NaN</td>\n",
       "      <td>5.0</td>\n",
       "      <td>58.0</td>\n",
       "      <td>461.0</td>\n",
       "      <td>...</td>\n",
       "      <td>2.0</td>\n",
       "      <td>NaN</td>\n",
       "      <td>1.0</td>\n",
       "      <td>71.0</td>\n",
       "      <td>439.0</td>\n",
       "      <td>84.0</td>\n",
       "      <td>0.161731</td>\n",
       "      <td>0.029613</td>\n",
       "      <td>0.808656</td>\n",
       "      <td>1206900.0</td>\n",
       "    </tr>\n",
       "  </tbody>\n",
       "</table>\n",
       "<p>5 rows × 44 columns</p>\n",
       "</div>"
      ],
      "text/plain": [
       "   CD Code  YEAR  American Indian or Alaska  Asian  Black, not Hispanic  \\\n",
       "0   110017  1981                        2.0   20.0                220.0   \n",
       "1   110017  1984                        5.0   13.0                225.0   \n",
       "2   110017  1985                        4.0   15.0                290.0   \n",
       "3   110017  1986                        6.0   13.0                346.0   \n",
       "4   110017  1987                        7.0   14.0                373.0   \n",
       "\n",
       "   Filipino  Hispanic or Latino  Pacific Islander  White  Total  \\\n",
       "0      11.0                 NaN               NaN  135.0  388.0   \n",
       "1       4.0                 NaN               NaN   65.0  312.0   \n",
       "2       4.0                 NaN               2.0   69.0  384.0   \n",
       "3       2.0                 NaN               1.0   71.0  439.0   \n",
       "4       4.0                 NaN               5.0   58.0  461.0   \n",
       "\n",
       "            ...             Filipino_(t-1)  Hispanic or Latino_(t-1)  \\\n",
       "0           ...                        NaN                       NaN   \n",
       "1           ...                        NaN                       NaN   \n",
       "2           ...                        4.0                       NaN   \n",
       "3           ...                        4.0                       NaN   \n",
       "4           ...                        2.0                       NaN   \n",
       "\n",
       "   Pacific Islander_(t-1)  White_(t-1)  Total_(t-1)  L_(t-1)  \\\n",
       "0                     NaN          NaN          NaN      NaN   \n",
       "1                     NaN          NaN          NaN      NaN   \n",
       "2                     NaN         65.0        312.0     78.0   \n",
       "3                     2.0         69.0        384.0     84.0   \n",
       "4                     1.0         71.0        439.0     84.0   \n",
       "\n",
       "   White_share_(t-1)  Asian_share_(t-1)  Other_share_(t-1)  \\\n",
       "0                NaN                NaN                NaN   \n",
       "1                NaN                NaN                NaN   \n",
       "2           0.208333           0.041667           0.750000   \n",
       "3           0.179688           0.039062           0.781250   \n",
       "4           0.161731           0.029613           0.808656   \n",
       "\n",
       "   County_Population_(t-1)  \n",
       "0                      NaN  \n",
       "1                      NaN  \n",
       "2                1170400.0  \n",
       "3                1185500.0  \n",
       "4                1206900.0  \n",
       "\n",
       "[5 rows x 44 columns]"
      ]
     },
     "execution_count": 66,
     "metadata": {},
     "output_type": "execute_result"
    }
   ],
   "source": [
    "districts = transform(sd, 'CD Code')\n",
    "districts.head()"
   ]
  },
  {
   "cell_type": "code",
   "execution_count": 67,
   "metadata": {
    "collapsed": true
   },
   "outputs": [],
   "source": [
    "# SAVE FOR ANALYSIS\n",
    "districts.to_csv('/Users/tsengtammy/Dropbox/3 TT/4. Thesis/build/data/output/agg_enrollment_CD.csv', index=False)"
   ]
  },
  {
   "cell_type": "markdown",
   "metadata": {},
   "source": [
    "# Subset to just elem + unsd districts + add instrument (80, 90 base)"
   ]
  },
  {
   "cell_type": "code",
   "execution_count": 68,
   "metadata": {
    "collapsed": false
   },
   "outputs": [],
   "source": [
    "# Only keep ELEM_UNSD\n",
    "elem_unsd = districts[(districts['DOC']==52) | (districts['DOC']==54)].copy()"
   ]
  },
  {
   "cell_type": "code",
   "execution_count": 76,
   "metadata": {
    "collapsed": false
   },
   "outputs": [],
   "source": [
    "# 80 base for 80 data\n",
    "# can also use as 80 base for 90 data by just subsetting\n",
    "inst80 = elem_unsd.merge(predicted_flows80, on=['District', 'YEAR'], how='left', indicator=True)\n",
    "inst80 = inst80[inst80['_merge']=='both']\n",
    "inst80.to_csv('/Users/tsengtammy/Dropbox/3 TT/4. Thesis/build/data/output/enrollment_IV_SD_80base.csv', index=False)"
   ]
  },
  {
   "cell_type": "code",
   "execution_count": 77,
   "metadata": {
    "collapsed": true
   },
   "outputs": [],
   "source": [
    "# 90 base for 90 data\n",
    "inst90 = elem_unsd.merge(predicted_flows90, on=['District', 'YEAR'], how='left', indicator=True)\n",
    "inst90 = inst90[inst90['_merge']=='both']\n",
    "inst90.to_csv('/Users/tsengtammy/Dropbox/3 TT/4. Thesis/build/data/output/enrollment_IV_SD_90base.csv', index=False)"
   ]
  },
  {
   "cell_type": "markdown",
   "metadata": {},
   "source": [
    "# Transform at district level (top 100 districts out of all)"
   ]
  },
  {
   "cell_type": "code",
   "execution_count": 78,
   "metadata": {
    "collapsed": true
   },
   "outputs": [],
   "source": [
    "grouped = districts.groupby('CD Code').mean().reset_index()[['CD Code', 'Total']]\n",
    "top_dist = grouped.sort_values('Total', ascending=False)[:100]['CD Code']\n",
    "\n",
    "districts[districts['CD Code'].isin(top_dist)].to_csv('/Users/tsengtammy/Dropbox/3 TT/4. Thesis/build/data/output/top_100_cd.csv', index=False)"
   ]
  },
  {
   "cell_type": "markdown",
   "metadata": {},
   "source": [
    "# Transform at district level (top 100 districts out of elem + unsd) - w/ 80 base data"
   ]
  },
  {
   "cell_type": "code",
   "execution_count": 79,
   "metadata": {
    "collapsed": true
   },
   "outputs": [],
   "source": [
    "grouped = inst80.groupby('CD Code').mean().reset_index()[['CD Code', 'Total']]\n",
    "top_dist = grouped.sort_values('Total', ascending=False)[:100]['CD Code']\n",
    "\n",
    "inst80[inst80['CD Code'].isin(top_dist)].to_csv('/Users/tsengtammy/Dropbox/3 TT/4. Thesis/build/data/output/top_100_cd_iv80.csv', index=False)"
   ]
  },
  {
   "cell_type": "markdown",
   "metadata": {},
   "source": [
    "# Transform at district level (top 100 districts out of elem + unsd) - w/ 90 base data"
   ]
  },
  {
   "cell_type": "code",
   "execution_count": 80,
   "metadata": {
    "collapsed": true
   },
   "outputs": [],
   "source": [
    "grouped = inst90.groupby('CD Code').mean().reset_index()[['CD Code', 'Total']]\n",
    "top_dist = grouped.sort_values('Total', ascending=False)[:100]['CD Code']\n",
    "\n",
    "inst90[inst90['CD Code'].isin(top_dist)].to_csv('/Users/tsengtammy/Dropbox/3 TT/4. Thesis/build/data/output/top_100_cd_iv90.csv', index=False)"
   ]
  },
  {
   "cell_type": "code",
   "execution_count": null,
   "metadata": {
    "collapsed": true
   },
   "outputs": [],
   "source": []
  }
 ],
 "metadata": {
  "kernelspec": {
   "display_name": "Python [conda env:anaconda]",
   "language": "python",
   "name": "conda-env-anaconda-py"
  },
  "language_info": {
   "codemirror_mode": {
    "name": "ipython",
    "version": 3
   },
   "file_extension": ".py",
   "mimetype": "text/x-python",
   "name": "python",
   "nbconvert_exporter": "python",
   "pygments_lexer": "ipython3",
   "version": "3.5.5"
  }
 },
 "nbformat": 4,
 "nbformat_minor": 2
}
